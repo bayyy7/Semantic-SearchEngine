{
 "cells": [
  {
   "cell_type": "code",
   "execution_count": 1,
   "metadata": {},
   "outputs": [
    {
     "name": "stdout",
     "output_type": "stream",
     "text": [
      "<class 'pandas.core.frame.DataFrame'>\n",
      "RangeIndex: 62 entries, 0 to 61\n",
      "Data columns (total 11 columns):\n",
      " #   Column             Non-Null Count  Dtype \n",
      "---  ------             --------------  ----- \n",
      " 0   Tanggal            62 non-null     object\n",
      " 1   Penuntut Umum      62 non-null     object\n",
      " 2   Terdakwa           62 non-null     object\n",
      " 3   Nomor Putusan      62 non-null     object\n",
      " 4   Kata Kunci         62 non-null     object\n",
      " 5   Tanggal Register   62 non-null     object\n",
      " 6   Lembaga Peradilan  62 non-null     object\n",
      " 7   Hakim Ketua        62 non-null     object\n",
      " 8   Hakim Anggota      62 non-null     object\n",
      " 9   Panitera           62 non-null     object\n",
      " 10  Catatan Amar       62 non-null     object\n",
      "dtypes: object(11)\n",
      "memory usage: 5.5+ KB\n"
     ]
    }
   ],
   "source": [
    "import pandas as pd \n",
    "\n",
    "data = pd.read_csv('raw_data.csv')\n",
    "data.info()"
   ]
  },
  {
   "cell_type": "code",
   "execution_count": 2,
   "metadata": {},
   "outputs": [],
   "source": [
    "from bs4 import BeautifulSoup\n",
    "import re\n",
    "\n",
    "def preprocessing(text):\n",
    "    new_text = re.sub(r'[\\r\\n\\t]', '', text)\n",
    "    return BeautifulSoup(new_text, \"html.parser\").get_text()"
   ]
  },
  {
   "cell_type": "code",
   "execution_count": 3,
   "metadata": {},
   "outputs": [],
   "source": [
    "for col in data.columns:\n",
    "    data[col] = data[col].astype(str).apply(preprocessing)\n",
    "data.to_csv('Narkotika_data(PN JOMBANG).csv', index=False)"
   ]
  }
 ],
 "metadata": {
  "kernelspec": {
   "display_name": "Python 3",
   "language": "python",
   "name": "python3"
  },
  "language_info": {
   "codemirror_mode": {
    "name": "ipython",
    "version": 3
   },
   "file_extension": ".py",
   "mimetype": "text/x-python",
   "name": "python",
   "nbconvert_exporter": "python",
   "pygments_lexer": "ipython3",
   "version": "3.10.9"
  }
 },
 "nbformat": 4,
 "nbformat_minor": 2
}
