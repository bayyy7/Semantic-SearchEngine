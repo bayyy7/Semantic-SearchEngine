{
 "cells": [
  {
   "cell_type": "markdown",
   "metadata": {},
   "source": [
    "# Rizky Indrabayu"
   ]
  },
  {
   "cell_type": "markdown",
   "metadata": {},
   "source": [
    "# ------------------------------------------------------------------------"
   ]
  },
  {
   "cell_type": "markdown",
   "metadata": {},
   "source": [
    "# Search Engine using BM25 algorithm + Random Forest (as evaluation performances)\n",
    "### Step 1. Import library + Dataset"
   ]
  },
  {
   "cell_type": "code",
   "execution_count": 74,
   "metadata": {},
   "outputs": [
    {
     "data": {
      "text/html": [
       "<div>\n",
       "<style scoped>\n",
       "    .dataframe tbody tr th:only-of-type {\n",
       "        vertical-align: middle;\n",
       "    }\n",
       "\n",
       "    .dataframe tbody tr th {\n",
       "        vertical-align: top;\n",
       "    }\n",
       "\n",
       "    .dataframe thead th {\n",
       "        text-align: right;\n",
       "    }\n",
       "</style>\n",
       "<table border=\"1\" class=\"dataframe\">\n",
       "  <thead>\n",
       "    <tr style=\"text-align: right;\">\n",
       "      <th></th>\n",
       "      <th>Tanggal</th>\n",
       "      <th>Penuntut Umum</th>\n",
       "      <th>Terdakwa</th>\n",
       "      <th>Nomor Putusan</th>\n",
       "      <th>Kata Kunci</th>\n",
       "      <th>Tanggal Register</th>\n",
       "      <th>Lembaga Peradilan</th>\n",
       "      <th>Hakim Ketua</th>\n",
       "      <th>Hakim Anggota</th>\n",
       "      <th>Panitera</th>\n",
       "      <th>Catatan Amar</th>\n",
       "    </tr>\n",
       "  </thead>\n",
       "  <tbody>\n",
       "    <tr>\n",
       "      <th>0</th>\n",
       "      <td>Tanggal 27 Juni 2023 — Penuntut Umum:</td>\n",
       "      <td>AGUS SUROTO , SH</td>\n",
       "      <td>DEBIK IRAWAN BiN SUPRIADI</td>\n",
       "      <td>181/Pid.Sus/2023/PN Jbg</td>\n",
       "      <td>...</td>\n",
       "      <td>23 Mei 2023</td>\n",
       "      <td>PN JOMBANG</td>\n",
       "      <td>Hakim Ketua Ida Ayu Masyuni</td>\n",
       "      <td>Hakim Anggota  Muhammad Riduansyah, Br Hakim A...</td>\n",
       "      <td>Panitera Pengganti: Gatut Prakosa</td>\n",
       "      <td>M E N G A D I L I: Menyatakan Terdakwa DEBIK I...</td>\n",
       "    </tr>\n",
       "    <tr>\n",
       "      <th>1</th>\n",
       "      <td>Tanggal 6 Juli 2023 — Penuntut Umum:</td>\n",
       "      <td>WIRADHYAKSA MOCHAMAD HARIADI PUTRA,S.H.,M.H</td>\n",
       "      <td>SLAMET HADIWIJAYANTO bin KUSDIYAN</td>\n",
       "      <td>193/Pid.Sus/2023/PN Jbg</td>\n",
       "      <td>...</td>\n",
       "      <td>25 Mei 2023</td>\n",
       "      <td>PN JOMBANG</td>\n",
       "      <td>Hakim Ketua Ida Ayu Masyuni</td>\n",
       "      <td>Hakim Anggota  Muhammad Riduansyah, Br Hakim A...</td>\n",
       "      <td>Panitera Pengganti: Karimulyatim</td>\n",
       "      <td>M E N G A D I L I Menyatakan Terdakwa SLAMET ...</td>\n",
       "    </tr>\n",
       "    <tr>\n",
       "      <th>2</th>\n",
       "      <td>Tanggal 13 Juli 2023 — Penuntut Umum:</td>\n",
       "      <td>SULTONI, S.H.,M.H</td>\n",
       "      <td>YUDHA ADITYA alias ADIT bin KARJO</td>\n",
       "      <td>210/Pid.Sus/2023/PN Jbg</td>\n",
       "      <td>...</td>\n",
       "      <td>9 Juni 2023</td>\n",
       "      <td>PN JOMBANG</td>\n",
       "      <td>Hakim Ketua Luki Eko Andrianto</td>\n",
       "      <td>Hakim Anggota  Muhammad Riduansyah, Br Hakim A...</td>\n",
       "      <td>Panitera Pengganti: Gatut Prakosa</td>\n",
       "      <td>MENGADILI Menyatakan Terdakwa YUDHA ADITYA ali...</td>\n",
       "    </tr>\n",
       "    <tr>\n",
       "      <th>3</th>\n",
       "      <td>Tanggal 20 Juli 2023 — Penuntut Umum:</td>\n",
       "      <td>ALDI DEMAS AKIRA</td>\n",
       "      <td>EKA YULIASTINI Binti SAMUJI</td>\n",
       "      <td>218/Pid.Sus/2023/PN Jbg</td>\n",
       "      <td>...</td>\n",
       "      <td>14 Juni 2023</td>\n",
       "      <td>PN JOMBANG</td>\n",
       "      <td>Hakim Ketua Luki Eko Andrianto</td>\n",
       "      <td>Hakim Anggota  Muhammad Riduansyah, Br Hakim A...</td>\n",
       "      <td>Panitera Pengganti: Mudjiman</td>\n",
       "      <td>MENGADILI  Menyatakan Terdakwa EKA YULIASTINI ...</td>\n",
       "    </tr>\n",
       "    <tr>\n",
       "      <th>4</th>\n",
       "      <td>Tanggal 13 Juli 2023 — Penuntut Umum:</td>\n",
       "      <td>ADI PRASETYO,S.H</td>\n",
       "      <td>BUDI SANTOSO Bin JAYUS Alm</td>\n",
       "      <td>219/Pid.Sus/2023/PN Jbg</td>\n",
       "      <td>...</td>\n",
       "      <td>14 Juni 2023</td>\n",
       "      <td>PN JOMBANG</td>\n",
       "      <td>Hakim Ketua Luki Eko Andrianto</td>\n",
       "      <td>Hakim Anggota  Muhammad Riduansyah, Br Hakim A...</td>\n",
       "      <td>Panitera Pengganti Arie Syamsul Bahri</td>\n",
       "      <td>MENGADILI  Menyatakan Terdakwa BUDI SANTOSO Bi...</td>\n",
       "    </tr>\n",
       "    <tr>\n",
       "      <th>...</th>\n",
       "      <td>...</td>\n",
       "      <td>...</td>\n",
       "      <td>...</td>\n",
       "      <td>...</td>\n",
       "      <td>...</td>\n",
       "      <td>...</td>\n",
       "      <td>...</td>\n",
       "      <td>...</td>\n",
       "      <td>...</td>\n",
       "      <td>...</td>\n",
       "      <td>...</td>\n",
       "    </tr>\n",
       "    <tr>\n",
       "      <th>57</th>\n",
       "      <td>Tanggal 27 Juni 2023 — Penuntut Umum:</td>\n",
       "      <td>AGUS SUROTO , SH</td>\n",
       "      <td>DEBIK IRAWAN BiN SUPRIADI</td>\n",
       "      <td>181/Pid.Sus/2023/PN Jbg</td>\n",
       "      <td>...</td>\n",
       "      <td>23 Mei 2023</td>\n",
       "      <td>PN JOMBANG</td>\n",
       "      <td>Hakim Ketua Ida Ayu Masyuni</td>\n",
       "      <td>Hakim Anggota  Muhammad Riduansyah, Br Hakim A...</td>\n",
       "      <td>Panitera Pengganti: Gatut Prakosa</td>\n",
       "      <td>M E N G A D I L I: Menyatakan Terdakwa DEBIK I...</td>\n",
       "    </tr>\n",
       "    <tr>\n",
       "      <th>58</th>\n",
       "      <td>Tanggal 6 Juli 2023 — Penuntut Umum:</td>\n",
       "      <td>WIRADHYAKSA MOCHAMAD HARIADI PUTRA,S.H.,M.H</td>\n",
       "      <td>SLAMET HADIWIJAYANTO bin KUSDIYAN</td>\n",
       "      <td>193/Pid.Sus/2023/PN Jbg</td>\n",
       "      <td>...</td>\n",
       "      <td>25 Mei 2023</td>\n",
       "      <td>PN JOMBANG</td>\n",
       "      <td>Hakim Ketua Ida Ayu Masyuni</td>\n",
       "      <td>Hakim Anggota  Muhammad Riduansyah, Br Hakim A...</td>\n",
       "      <td>Panitera Pengganti: Karimulyatim</td>\n",
       "      <td>M E N G A D I L I Menyatakan Terdakwa SLAMET ...</td>\n",
       "    </tr>\n",
       "    <tr>\n",
       "      <th>59</th>\n",
       "      <td>Tanggal 13 Juli 2023 — Penuntut Umum:</td>\n",
       "      <td>SULTONI, S.H.,M.H</td>\n",
       "      <td>YUDHA ADITYA alias ADIT bin KARJO</td>\n",
       "      <td>210/Pid.Sus/2023/PN Jbg</td>\n",
       "      <td>...</td>\n",
       "      <td>9 Juni 2023</td>\n",
       "      <td>PN JOMBANG</td>\n",
       "      <td>Hakim Ketua Luki Eko Andrianto</td>\n",
       "      <td>Hakim Anggota  Muhammad Riduansyah, Br Hakim A...</td>\n",
       "      <td>Panitera Pengganti: Gatut Prakosa</td>\n",
       "      <td>MENGADILI Menyatakan Terdakwa YUDHA ADITYA ali...</td>\n",
       "    </tr>\n",
       "    <tr>\n",
       "      <th>60</th>\n",
       "      <td>Tanggal 15 Agustus 2023 — Penuntut Umum:</td>\n",
       "      <td>Anjas Mega Lestari, S.H.</td>\n",
       "      <td>DIDIT ADITYA alias WAK NYO bin TOTOK SUYANTO</td>\n",
       "      <td>228/Pid.Sus/2023/PN Jbg</td>\n",
       "      <td>...</td>\n",
       "      <td>23 Juni 2023</td>\n",
       "      <td>PN JOMBANG</td>\n",
       "      <td>Hakim Ketua Muhammad Riduansyah</td>\n",
       "      <td>Hakim Anggota  Luki Eko Andrianto, Br Hakim An...</td>\n",
       "      <td>Panitera Pengganti: H. Satiman</td>\n",
       "      <td>Menyatakan Terdakwa DIDIT ADITYA alias WAK NY...</td>\n",
       "    </tr>\n",
       "    <tr>\n",
       "      <th>61</th>\n",
       "      <td>Tanggal 20 Juli 2023 — Penuntut Umum:</td>\n",
       "      <td>ALDI DEMAS AKIRA</td>\n",
       "      <td>EKA YULIASTINI Binti SAMUJI</td>\n",
       "      <td>218/Pid.Sus/2023/PN Jbg</td>\n",
       "      <td>...</td>\n",
       "      <td>14 Juni 2023</td>\n",
       "      <td>PN JOMBANG</td>\n",
       "      <td>Hakim Ketua Luki Eko Andrianto</td>\n",
       "      <td>Hakim Anggota  Muhammad Riduansyah, Br Hakim A...</td>\n",
       "      <td>Panitera Pengganti: Mudjiman</td>\n",
       "      <td>MENGADILI  Menyatakan Terdakwa EKA YULIASTINI ...</td>\n",
       "    </tr>\n",
       "  </tbody>\n",
       "</table>\n",
       "<p>62 rows × 11 columns</p>\n",
       "</div>"
      ],
      "text/plain": [
       "                                     Tanggal  \\\n",
       "0      Tanggal 27 Juni 2023 — Penuntut Umum:   \n",
       "1       Tanggal 6 Juli 2023 — Penuntut Umum:   \n",
       "2      Tanggal 13 Juli 2023 — Penuntut Umum:   \n",
       "3      Tanggal 20 Juli 2023 — Penuntut Umum:   \n",
       "4      Tanggal 13 Juli 2023 — Penuntut Umum:   \n",
       "..                                       ...   \n",
       "57     Tanggal 27 Juni 2023 — Penuntut Umum:   \n",
       "58      Tanggal 6 Juli 2023 — Penuntut Umum:   \n",
       "59     Tanggal 13 Juli 2023 — Penuntut Umum:   \n",
       "60  Tanggal 15 Agustus 2023 — Penuntut Umum:   \n",
       "61     Tanggal 20 Juli 2023 — Penuntut Umum:   \n",
       "\n",
       "                                  Penuntut Umum  \\\n",
       "0                              AGUS SUROTO , SH   \n",
       "1   WIRADHYAKSA MOCHAMAD HARIADI PUTRA,S.H.,M.H   \n",
       "2                             SULTONI, S.H.,M.H   \n",
       "3                              ALDI DEMAS AKIRA   \n",
       "4                              ADI PRASETYO,S.H   \n",
       "..                                          ...   \n",
       "57                             AGUS SUROTO , SH   \n",
       "58  WIRADHYAKSA MOCHAMAD HARIADI PUTRA,S.H.,M.H   \n",
       "59                            SULTONI, S.H.,M.H   \n",
       "60                     Anjas Mega Lestari, S.H.   \n",
       "61                             ALDI DEMAS AKIRA   \n",
       "\n",
       "                                        Terdakwa            Nomor Putusan  \\\n",
       "0                      DEBIK IRAWAN BiN SUPRIADI  181/Pid.Sus/2023/PN Jbg   \n",
       "1              SLAMET HADIWIJAYANTO bin KUSDIYAN  193/Pid.Sus/2023/PN Jbg   \n",
       "2              YUDHA ADITYA alias ADIT bin KARJO  210/Pid.Sus/2023/PN Jbg   \n",
       "3                    EKA YULIASTINI Binti SAMUJI  218/Pid.Sus/2023/PN Jbg   \n",
       "4                     BUDI SANTOSO Bin JAYUS Alm  219/Pid.Sus/2023/PN Jbg   \n",
       "..                                           ...                      ...   \n",
       "57                     DEBIK IRAWAN BiN SUPRIADI  181/Pid.Sus/2023/PN Jbg   \n",
       "58             SLAMET HADIWIJAYANTO bin KUSDIYAN  193/Pid.Sus/2023/PN Jbg   \n",
       "59             YUDHA ADITYA alias ADIT bin KARJO  210/Pid.Sus/2023/PN Jbg   \n",
       "60  DIDIT ADITYA alias WAK NYO bin TOTOK SUYANTO  228/Pid.Sus/2023/PN Jbg   \n",
       "61                   EKA YULIASTINI Binti SAMUJI  218/Pid.Sus/2023/PN Jbg   \n",
       "\n",
       "                                           Kata Kunci Tanggal Register  \\\n",
       "0                                                 ...      23 Mei 2023   \n",
       "1                                                 ...      25 Mei 2023   \n",
       "2                                                 ...      9 Juni 2023   \n",
       "3                                                 ...     14 Juni 2023   \n",
       "4                                                 ...     14 Juni 2023   \n",
       "..                                                ...              ...   \n",
       "57                                                ...      23 Mei 2023   \n",
       "58                                                ...      25 Mei 2023   \n",
       "59                                                ...      9 Juni 2023   \n",
       "60                                                ...     23 Juni 2023   \n",
       "61                                                ...     14 Juni 2023   \n",
       "\n",
       "   Lembaga Peradilan                      Hakim Ketua  \\\n",
       "0         PN JOMBANG      Hakim Ketua Ida Ayu Masyuni   \n",
       "1         PN JOMBANG      Hakim Ketua Ida Ayu Masyuni   \n",
       "2         PN JOMBANG   Hakim Ketua Luki Eko Andrianto   \n",
       "3         PN JOMBANG   Hakim Ketua Luki Eko Andrianto   \n",
       "4         PN JOMBANG   Hakim Ketua Luki Eko Andrianto   \n",
       "..               ...                              ...   \n",
       "57        PN JOMBANG      Hakim Ketua Ida Ayu Masyuni   \n",
       "58        PN JOMBANG      Hakim Ketua Ida Ayu Masyuni   \n",
       "59        PN JOMBANG   Hakim Ketua Luki Eko Andrianto   \n",
       "60        PN JOMBANG  Hakim Ketua Muhammad Riduansyah   \n",
       "61        PN JOMBANG   Hakim Ketua Luki Eko Andrianto   \n",
       "\n",
       "                                        Hakim Anggota  \\\n",
       "0   Hakim Anggota  Muhammad Riduansyah, Br Hakim A...   \n",
       "1   Hakim Anggota  Muhammad Riduansyah, Br Hakim A...   \n",
       "2   Hakim Anggota  Muhammad Riduansyah, Br Hakim A...   \n",
       "3   Hakim Anggota  Muhammad Riduansyah, Br Hakim A...   \n",
       "4   Hakim Anggota  Muhammad Riduansyah, Br Hakim A...   \n",
       "..                                                ...   \n",
       "57  Hakim Anggota  Muhammad Riduansyah, Br Hakim A...   \n",
       "58  Hakim Anggota  Muhammad Riduansyah, Br Hakim A...   \n",
       "59  Hakim Anggota  Muhammad Riduansyah, Br Hakim A...   \n",
       "60  Hakim Anggota  Luki Eko Andrianto, Br Hakim An...   \n",
       "61  Hakim Anggota  Muhammad Riduansyah, Br Hakim A...   \n",
       "\n",
       "                                 Panitera  \\\n",
       "0       Panitera Pengganti: Gatut Prakosa   \n",
       "1        Panitera Pengganti: Karimulyatim   \n",
       "2       Panitera Pengganti: Gatut Prakosa   \n",
       "3            Panitera Pengganti: Mudjiman   \n",
       "4   Panitera Pengganti Arie Syamsul Bahri   \n",
       "..                                    ...   \n",
       "57      Panitera Pengganti: Gatut Prakosa   \n",
       "58       Panitera Pengganti: Karimulyatim   \n",
       "59      Panitera Pengganti: Gatut Prakosa   \n",
       "60         Panitera Pengganti: H. Satiman   \n",
       "61           Panitera Pengganti: Mudjiman   \n",
       "\n",
       "                                         Catatan Amar  \n",
       "0   M E N G A D I L I: Menyatakan Terdakwa DEBIK I...  \n",
       "1    M E N G A D I L I Menyatakan Terdakwa SLAMET ...  \n",
       "2   MENGADILI Menyatakan Terdakwa YUDHA ADITYA ali...  \n",
       "3   MENGADILI  Menyatakan Terdakwa EKA YULIASTINI ...  \n",
       "4   MENGADILI  Menyatakan Terdakwa BUDI SANTOSO Bi...  \n",
       "..                                                ...  \n",
       "57  M E N G A D I L I: Menyatakan Terdakwa DEBIK I...  \n",
       "58   M E N G A D I L I Menyatakan Terdakwa SLAMET ...  \n",
       "59  MENGADILI Menyatakan Terdakwa YUDHA ADITYA ali...  \n",
       "60   Menyatakan Terdakwa DIDIT ADITYA alias WAK NY...  \n",
       "61  MENGADILI  Menyatakan Terdakwa EKA YULIASTINI ...  \n",
       "\n",
       "[62 rows x 11 columns]"
      ]
     },
     "execution_count": 74,
     "metadata": {},
     "output_type": "execute_result"
    }
   ],
   "source": [
    "import pandas as pd\n",
    "from rank_bm25 import BM25Okapi\n",
    "from nltk.tokenize import word_tokenize\n",
    "import nltk\n",
    "\n",
    "df = pd.read_csv('Narkotika_data(PN JOMBANG).csv')\n",
    "df"
   ]
  },
  {
   "cell_type": "markdown",
   "metadata": {},
   "source": [
    "### Step 2. Data Preprocessing"
   ]
  },
  {
   "cell_type": "code",
   "execution_count": 75,
   "metadata": {},
   "outputs": [],
   "source": [
    "tokenized_docs = [word_tokenize(doc.lower()) for doc in df['Catatan Amar']]\n",
    "bm25 = BM25Okapi(tokenized_docs)"
   ]
  },
  {
   "cell_type": "markdown",
   "metadata": {},
   "source": [
    "### Step 3. Create Function to sort Top 3 Query"
   ]
  },
  {
   "cell_type": "code",
   "execution_count": 76,
   "metadata": {},
   "outputs": [],
   "source": [
    "def search(query):\n",
    "    query = word_tokenize(query.lower())\n",
    "    scores = bm25.get_scores(query)\n",
    "    top_indexes = sorted(range(len(scores)), key=lambda i: scores[i], reverse=True)[:3]\n",
    "    return df['Catatan Amar'].iloc[top_indexes]"
   ]
  },
  {
   "cell_type": "markdown",
   "metadata": {},
   "source": [
    "### Step 4. Do search using query = \"Ganja\" "
   ]
  },
  {
   "cell_type": "code",
   "execution_count": 77,
   "metadata": {},
   "outputs": [
    {
     "name": "stdout",
     "output_type": "stream",
     "text": [
      "0    M E N G A D I L I: Menyatakan Terdakwa DEBIK I...\n",
      "1     M E N G A D I L I Menyatakan Terdakwa SLAMET ...\n",
      "2    MENGADILI Menyatakan Terdakwa YUDHA ADITYA ali...\n",
      "Name: Catatan Amar, dtype: object\n"
     ]
    }
   ],
   "source": [
    "query = search(\"Ganja\")\n",
    "print(query)"
   ]
  },
  {
   "cell_type": "markdown",
   "metadata": {},
   "source": [
    "### Step 5. Create Model as Performance Evaluation using Random Forest Algorithm\n",
    "In here, i use query=\"Sabu\" to labelling the data. There are 13 instances that proven to has query=\"Sabu\" in Catatan Amar. So, except 13 instances will be categorize to \"Non Sabu\". This is basically Binary Classification with manual labelling using machine. The evaluation performance and Confusion matrix are presented down below."
   ]
  },
  {
   "cell_type": "code",
   "execution_count": 78,
   "metadata": {},
   "outputs": [],
   "source": [
    "def rating(query):\n",
    "    query = word_tokenize(query.lower())\n",
    "    scores = bm25.get_scores(query)\n",
    "    top_indexes = sorted(range(len(scores)), key=lambda i: scores[i], reverse=True)[:13]\n",
    "    return top_indexes"
   ]
  },
  {
   "cell_type": "code",
   "execution_count": 79,
   "metadata": {},
   "outputs": [
    {
     "name": "stderr",
     "output_type": "stream",
     "text": [
      "/var/folders/_l/mh9hlz0s03xg8z3s309b4qgr0000gn/T/ipykernel_7117/2862687208.py:3: SettingWithCopyWarning: \n",
      "A value is trying to be set on a copy of a slice from a DataFrame\n",
      "\n",
      "See the caveats in the documentation: https://pandas.pydata.org/pandas-docs/stable/user_guide/indexing.html#returning-a-view-versus-a-copy\n",
      "  df['Label'].iloc[index] = 1\n"
     ]
    }
   ],
   "source": [
    "index = rating('sabu')\n",
    "df['Label'] = 0\n",
    "df['Label'].iloc[index] = 1"
   ]
  },
  {
   "cell_type": "code",
   "execution_count": 80,
   "metadata": {},
   "outputs": [],
   "source": [
    "from sklearn.feature_extraction.text import TfidfVectorizer\n",
    "\n",
    "tfidf = TfidfVectorizer()\n",
    "X = tfidf.fit_transform(df['Catatan Amar'])\n",
    "y = df['Label']"
   ]
  },
  {
   "cell_type": "code",
   "execution_count": 81,
   "metadata": {},
   "outputs": [],
   "source": [
    "from sklearn.model_selection import train_test_split\n",
    "\n",
    "X_train, X_test, y_train, y_test = train_test_split(X, y, test_size=0.2, random_state=42)"
   ]
  },
  {
   "cell_type": "code",
   "execution_count": 82,
   "metadata": {},
   "outputs": [
    {
     "data": {
      "text/html": [
       "<style>#sk-container-id-13 {color: black;background-color: white;}#sk-container-id-13 pre{padding: 0;}#sk-container-id-13 div.sk-toggleable {background-color: white;}#sk-container-id-13 label.sk-toggleable__label {cursor: pointer;display: block;width: 100%;margin-bottom: 0;padding: 0.3em;box-sizing: border-box;text-align: center;}#sk-container-id-13 label.sk-toggleable__label-arrow:before {content: \"▸\";float: left;margin-right: 0.25em;color: #696969;}#sk-container-id-13 label.sk-toggleable__label-arrow:hover:before {color: black;}#sk-container-id-13 div.sk-estimator:hover label.sk-toggleable__label-arrow:before {color: black;}#sk-container-id-13 div.sk-toggleable__content {max-height: 0;max-width: 0;overflow: hidden;text-align: left;background-color: #f0f8ff;}#sk-container-id-13 div.sk-toggleable__content pre {margin: 0.2em;color: black;border-radius: 0.25em;background-color: #f0f8ff;}#sk-container-id-13 input.sk-toggleable__control:checked~div.sk-toggleable__content {max-height: 200px;max-width: 100%;overflow: auto;}#sk-container-id-13 input.sk-toggleable__control:checked~label.sk-toggleable__label-arrow:before {content: \"▾\";}#sk-container-id-13 div.sk-estimator input.sk-toggleable__control:checked~label.sk-toggleable__label {background-color: #d4ebff;}#sk-container-id-13 div.sk-label input.sk-toggleable__control:checked~label.sk-toggleable__label {background-color: #d4ebff;}#sk-container-id-13 input.sk-hidden--visually {border: 0;clip: rect(1px 1px 1px 1px);clip: rect(1px, 1px, 1px, 1px);height: 1px;margin: -1px;overflow: hidden;padding: 0;position: absolute;width: 1px;}#sk-container-id-13 div.sk-estimator {font-family: monospace;background-color: #f0f8ff;border: 1px dotted black;border-radius: 0.25em;box-sizing: border-box;margin-bottom: 0.5em;}#sk-container-id-13 div.sk-estimator:hover {background-color: #d4ebff;}#sk-container-id-13 div.sk-parallel-item::after {content: \"\";width: 100%;border-bottom: 1px solid gray;flex-grow: 1;}#sk-container-id-13 div.sk-label:hover label.sk-toggleable__label {background-color: #d4ebff;}#sk-container-id-13 div.sk-serial::before {content: \"\";position: absolute;border-left: 1px solid gray;box-sizing: border-box;top: 0;bottom: 0;left: 50%;z-index: 0;}#sk-container-id-13 div.sk-serial {display: flex;flex-direction: column;align-items: center;background-color: white;padding-right: 0.2em;padding-left: 0.2em;position: relative;}#sk-container-id-13 div.sk-item {position: relative;z-index: 1;}#sk-container-id-13 div.sk-parallel {display: flex;align-items: stretch;justify-content: center;background-color: white;position: relative;}#sk-container-id-13 div.sk-item::before, #sk-container-id-13 div.sk-parallel-item::before {content: \"\";position: absolute;border-left: 1px solid gray;box-sizing: border-box;top: 0;bottom: 0;left: 50%;z-index: -1;}#sk-container-id-13 div.sk-parallel-item {display: flex;flex-direction: column;z-index: 1;position: relative;background-color: white;}#sk-container-id-13 div.sk-parallel-item:first-child::after {align-self: flex-end;width: 50%;}#sk-container-id-13 div.sk-parallel-item:last-child::after {align-self: flex-start;width: 50%;}#sk-container-id-13 div.sk-parallel-item:only-child::after {width: 0;}#sk-container-id-13 div.sk-dashed-wrapped {border: 1px dashed gray;margin: 0 0.4em 0.5em 0.4em;box-sizing: border-box;padding-bottom: 0.4em;background-color: white;}#sk-container-id-13 div.sk-label label {font-family: monospace;font-weight: bold;display: inline-block;line-height: 1.2em;}#sk-container-id-13 div.sk-label-container {text-align: center;}#sk-container-id-13 div.sk-container {/* jupyter's `normalize.less` sets `[hidden] { display: none; }` but bootstrap.min.css set `[hidden] { display: none !important; }` so we also need the `!important` here to be able to override the default hidden behavior on the sphinx rendered scikit-learn.org. See: https://github.com/scikit-learn/scikit-learn/issues/21755 */display: inline-block !important;position: relative;}#sk-container-id-13 div.sk-text-repr-fallback {display: none;}</style><div id=\"sk-container-id-13\" class=\"sk-top-container\"><div class=\"sk-text-repr-fallback\"><pre>RandomForestClassifier(random_state=42)</pre><b>In a Jupyter environment, please rerun this cell to show the HTML representation or trust the notebook. <br />On GitHub, the HTML representation is unable to render, please try loading this page with nbviewer.org.</b></div><div class=\"sk-container\" hidden><div class=\"sk-item\"><div class=\"sk-estimator sk-toggleable\"><input class=\"sk-toggleable__control sk-hidden--visually\" id=\"sk-estimator-id-13\" type=\"checkbox\" checked><label for=\"sk-estimator-id-13\" class=\"sk-toggleable__label sk-toggleable__label-arrow\">RandomForestClassifier</label><div class=\"sk-toggleable__content\"><pre>RandomForestClassifier(random_state=42)</pre></div></div></div></div></div>"
      ],
      "text/plain": [
       "RandomForestClassifier(random_state=42)"
      ]
     },
     "execution_count": 82,
     "metadata": {},
     "output_type": "execute_result"
    }
   ],
   "source": [
    "from sklearn.ensemble import RandomForestClassifier\n",
    "\n",
    "rf = RandomForestClassifier(n_estimators=100, random_state=42)\n",
    "rf.fit(X_train, y_train)"
   ]
  },
  {
   "cell_type": "code",
   "execution_count": 83,
   "metadata": {},
   "outputs": [
    {
     "name": "stdout",
     "output_type": "stream",
     "text": [
      "              precision    recall  f1-score   support\n",
      "\n",
      "    Non Sabu       1.00      1.00      1.00        11\n",
      "        Sabu       1.00      1.00      1.00         2\n",
      "\n",
      "    accuracy                           1.00        13\n",
      "   macro avg       1.00      1.00      1.00        13\n",
      "weighted avg       1.00      1.00      1.00        13\n",
      "\n"
     ]
    }
   ],
   "source": [
    "from sklearn.metrics import classification_report, ConfusionMatrixDisplay, confusion_matrix\n",
    "\n",
    "predictions = rf.predict(X_test)\n",
    "print(classification_report(y_test, predictions, target_names=['Non Sabu', 'Sabu']))"
   ]
  },
  {
   "cell_type": "code",
   "execution_count": 84,
   "metadata": {},
   "outputs": [
    {
     "data": {
      "text/plain": [
       "<sklearn.metrics._plot.confusion_matrix.ConfusionMatrixDisplay at 0x168f65480>"
      ]
     },
     "execution_count": 84,
     "metadata": {},
     "output_type": "execute_result"
    },
    {
     "data": {
      "image/png": "[encoded data removed]",
      "text/plain": [
       "<Figure size 640x480 with 2 Axes>"
      ]
     },
     "metadata": {},
     "output_type": "display_data"
    }
   ],
   "source": [
    "cfm = confusion_matrix(y_test, predictions)\n",
    "fig = ConfusionMatrixDisplay(cfm, display_labels=['Non Sabu', 'Sabu'])\n",
    "fig.plot()"
   ]
  }
 ],
 "metadata": {
  "kernelspec": {
   "display_name": "Python 3",
   "language": "python",
   "name": "python3"
  },
  "language_info": {
   "codemirror_mode": {
    "name": "ipython",
    "version": 3
   },
   "file_extension": ".py",
   "mimetype": "text/x-python",
   "name": "python",
   "nbconvert_exporter": "python",
   "pygments_lexer": "ipython3",
   "version": "3.10.9"
  }
 },
 "nbformat": 4,
 "nbformat_minor": 2
}
