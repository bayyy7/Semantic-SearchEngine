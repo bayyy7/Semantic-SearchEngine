{
 "cells": [
  {
   "cell_type": "code",
   "execution_count": 1,
   "metadata": {},
   "outputs": [
    {
     "data": {
      "text/html": [
       "<div>\n",
       "<style scoped>\n",
       "    .dataframe tbody tr th:only-of-type {\n",
       "        vertical-align: middle;\n",
       "    }\n",
       "\n",
       "    .dataframe tbody tr th {\n",
       "        vertical-align: top;\n",
       "    }\n",
       "\n",
       "    .dataframe thead th {\n",
       "        text-align: right;\n",
       "    }\n",
       "</style>\n",
       "<table border=\"1\" class=\"dataframe\">\n",
       "  <thead>\n",
       "    <tr style=\"text-align: right;\">\n",
       "      <th></th>\n",
       "      <th>Tanggal</th>\n",
       "      <th>Penuntut Umum</th>\n",
       "      <th>Terdakwa</th>\n",
       "      <th>Nomor Putusan</th>\n",
       "      <th>Kata Kunci</th>\n",
       "      <th>Tanggal Register</th>\n",
       "      <th>Lembaga Peradilan</th>\n",
       "      <th>Hakim Ketua</th>\n",
       "      <th>Hakim Anggota</th>\n",
       "      <th>Panitera</th>\n",
       "      <th>Catatan Amar</th>\n",
       "    </tr>\n",
       "  </thead>\n",
       "  <tbody>\n",
       "    <tr>\n",
       "      <th>0</th>\n",
       "      <td>Tanggal 27 Juni 2023 — Penuntut Umum:</td>\n",
       "      <td>AGUS SUROTO , SH</td>\n",
       "      <td>DEBIK IRAWAN BiN SUPRIADI</td>\n",
       "      <td>181/Pid.Sus/2023/PN Jbg</td>\n",
       "      <td>...</td>\n",
       "      <td>23 Mei 2023</td>\n",
       "      <td>PN JOMBANG</td>\n",
       "      <td>Hakim Ketua Ida Ayu Masyuni</td>\n",
       "      <td>Hakim Anggota  Muhammad Riduansyah, Br Hakim A...</td>\n",
       "      <td>Panitera Pengganti: Gatut Prakosa</td>\n",
       "      <td>M E N G A D I L I: Menyatakan Terdakwa DEBIK I...</td>\n",
       "    </tr>\n",
       "    <tr>\n",
       "      <th>1</th>\n",
       "      <td>Tanggal 6 Juli 2023 — Penuntut Umum:</td>\n",
       "      <td>WIRADHYAKSA MOCHAMAD HARIADI PUTRA,S.H.,M.H</td>\n",
       "      <td>SLAMET HADIWIJAYANTO bin KUSDIYAN</td>\n",
       "      <td>193/Pid.Sus/2023/PN Jbg</td>\n",
       "      <td>...</td>\n",
       "      <td>25 Mei 2023</td>\n",
       "      <td>PN JOMBANG</td>\n",
       "      <td>Hakim Ketua Ida Ayu Masyuni</td>\n",
       "      <td>Hakim Anggota  Muhammad Riduansyah, Br Hakim A...</td>\n",
       "      <td>Panitera Pengganti: Karimulyatim</td>\n",
       "      <td>M E N G A D I L I Menyatakan Terdakwa SLAMET ...</td>\n",
       "    </tr>\n",
       "    <tr>\n",
       "      <th>2</th>\n",
       "      <td>Tanggal 13 Juli 2023 — Penuntut Umum:</td>\n",
       "      <td>SULTONI, S.H.,M.H</td>\n",
       "      <td>YUDHA ADITYA alias ADIT bin KARJO</td>\n",
       "      <td>210/Pid.Sus/2023/PN Jbg</td>\n",
       "      <td>...</td>\n",
       "      <td>9 Juni 2023</td>\n",
       "      <td>PN JOMBANG</td>\n",
       "      <td>Hakim Ketua Luki Eko Andrianto</td>\n",
       "      <td>Hakim Anggota  Muhammad Riduansyah, Br Hakim A...</td>\n",
       "      <td>Panitera Pengganti: Gatut Prakosa</td>\n",
       "      <td>MENGADILI Menyatakan Terdakwa YUDHA ADITYA ali...</td>\n",
       "    </tr>\n",
       "    <tr>\n",
       "      <th>3</th>\n",
       "      <td>Tanggal 20 Juli 2023 — Penuntut Umum:</td>\n",
       "      <td>ALDI DEMAS AKIRA</td>\n",
       "      <td>EKA YULIASTINI Binti SAMUJI</td>\n",
       "      <td>218/Pid.Sus/2023/PN Jbg</td>\n",
       "      <td>...</td>\n",
       "      <td>14 Juni 2023</td>\n",
       "      <td>PN JOMBANG</td>\n",
       "      <td>Hakim Ketua Luki Eko Andrianto</td>\n",
       "      <td>Hakim Anggota  Muhammad Riduansyah, Br Hakim A...</td>\n",
       "      <td>Panitera Pengganti: Mudjiman</td>\n",
       "      <td>MENGADILI  Menyatakan Terdakwa EKA YULIASTINI ...</td>\n",
       "    </tr>\n",
       "    <tr>\n",
       "      <th>4</th>\n",
       "      <td>Tanggal 13 Juli 2023 — Penuntut Umum:</td>\n",
       "      <td>ADI PRASETYO,S.H</td>\n",
       "      <td>BUDI SANTOSO Bin JAYUS Alm</td>\n",
       "      <td>219/Pid.Sus/2023/PN Jbg</td>\n",
       "      <td>...</td>\n",
       "      <td>14 Juni 2023</td>\n",
       "      <td>PN JOMBANG</td>\n",
       "      <td>Hakim Ketua Luki Eko Andrianto</td>\n",
       "      <td>Hakim Anggota  Muhammad Riduansyah, Br Hakim A...</td>\n",
       "      <td>Panitera Pengganti Arie Syamsul Bahri</td>\n",
       "      <td>MENGADILI  Menyatakan Terdakwa BUDI SANTOSO Bi...</td>\n",
       "    </tr>\n",
       "    <tr>\n",
       "      <th>...</th>\n",
       "      <td>...</td>\n",
       "      <td>...</td>\n",
       "      <td>...</td>\n",
       "      <td>...</td>\n",
       "      <td>...</td>\n",
       "      <td>...</td>\n",
       "      <td>...</td>\n",
       "      <td>...</td>\n",
       "      <td>...</td>\n",
       "      <td>...</td>\n",
       "      <td>...</td>\n",
       "    </tr>\n",
       "    <tr>\n",
       "      <th>57</th>\n",
       "      <td>Tanggal 27 Juni 2023 — Penuntut Umum:</td>\n",
       "      <td>AGUS SUROTO , SH</td>\n",
       "      <td>DEBIK IRAWAN BiN SUPRIADI</td>\n",
       "      <td>181/Pid.Sus/2023/PN Jbg</td>\n",
       "      <td>...</td>\n",
       "      <td>23 Mei 2023</td>\n",
       "      <td>PN JOMBANG</td>\n",
       "      <td>Hakim Ketua Ida Ayu Masyuni</td>\n",
       "      <td>Hakim Anggota  Muhammad Riduansyah, Br Hakim A...</td>\n",
       "      <td>Panitera Pengganti: Gatut Prakosa</td>\n",
       "      <td>M E N G A D I L I: Menyatakan Terdakwa DEBIK I...</td>\n",
       "    </tr>\n",
       "    <tr>\n",
       "      <th>58</th>\n",
       "      <td>Tanggal 6 Juli 2023 — Penuntut Umum:</td>\n",
       "      <td>WIRADHYAKSA MOCHAMAD HARIADI PUTRA,S.H.,M.H</td>\n",
       "      <td>SLAMET HADIWIJAYANTO bin KUSDIYAN</td>\n",
       "      <td>193/Pid.Sus/2023/PN Jbg</td>\n",
       "      <td>...</td>\n",
       "      <td>25 Mei 2023</td>\n",
       "      <td>PN JOMBANG</td>\n",
       "      <td>Hakim Ketua Ida Ayu Masyuni</td>\n",
       "      <td>Hakim Anggota  Muhammad Riduansyah, Br Hakim A...</td>\n",
       "      <td>Panitera Pengganti: Karimulyatim</td>\n",
       "      <td>M E N G A D I L I Menyatakan Terdakwa SLAMET ...</td>\n",
       "    </tr>\n",
       "    <tr>\n",
       "      <th>59</th>\n",
       "      <td>Tanggal 13 Juli 2023 — Penuntut Umum:</td>\n",
       "      <td>SULTONI, S.H.,M.H</td>\n",
       "      <td>YUDHA ADITYA alias ADIT bin KARJO</td>\n",
       "      <td>210/Pid.Sus/2023/PN Jbg</td>\n",
       "      <td>...</td>\n",
       "      <td>9 Juni 2023</td>\n",
       "      <td>PN JOMBANG</td>\n",
       "      <td>Hakim Ketua Luki Eko Andrianto</td>\n",
       "      <td>Hakim Anggota  Muhammad Riduansyah, Br Hakim A...</td>\n",
       "      <td>Panitera Pengganti: Gatut Prakosa</td>\n",
       "      <td>MENGADILI Menyatakan Terdakwa YUDHA ADITYA ali...</td>\n",
       "    </tr>\n",
       "    <tr>\n",
       "      <th>60</th>\n",
       "      <td>Tanggal 15 Agustus 2023 — Penuntut Umum:</td>\n",
       "      <td>Anjas Mega Lestari, S.H.</td>\n",
       "      <td>DIDIT ADITYA alias WAK NYO bin TOTOK SUYANTO</td>\n",
       "      <td>228/Pid.Sus/2023/PN Jbg</td>\n",
       "      <td>...</td>\n",
       "      <td>23 Juni 2023</td>\n",
       "      <td>PN JOMBANG</td>\n",
       "      <td>Hakim Ketua Muhammad Riduansyah</td>\n",
       "      <td>Hakim Anggota  Luki Eko Andrianto, Br Hakim An...</td>\n",
       "      <td>Panitera Pengganti: H. Satiman</td>\n",
       "      <td>Menyatakan Terdakwa DIDIT ADITYA alias WAK NY...</td>\n",
       "    </tr>\n",
       "    <tr>\n",
       "      <th>61</th>\n",
       "      <td>Tanggal 20 Juli 2023 — Penuntut Umum:</td>\n",
       "      <td>ALDI DEMAS AKIRA</td>\n",
       "      <td>EKA YULIASTINI Binti SAMUJI</td>\n",
       "      <td>218/Pid.Sus/2023/PN Jbg</td>\n",
       "      <td>...</td>\n",
       "      <td>14 Juni 2023</td>\n",
       "      <td>PN JOMBANG</td>\n",
       "      <td>Hakim Ketua Luki Eko Andrianto</td>\n",
       "      <td>Hakim Anggota  Muhammad Riduansyah, Br Hakim A...</td>\n",
       "      <td>Panitera Pengganti: Mudjiman</td>\n",
       "      <td>MENGADILI  Menyatakan Terdakwa EKA YULIASTINI ...</td>\n",
       "    </tr>\n",
       "  </tbody>\n",
       "</table>\n",
       "<p>62 rows × 11 columns</p>\n",
       "</div>"
      ],
      "text/plain": [
       "                                     Tanggal  \\\n",
       "0      Tanggal 27 Juni 2023 — Penuntut Umum:   \n",
       "1       Tanggal 6 Juli 2023 — Penuntut Umum:   \n",
       "2      Tanggal 13 Juli 2023 — Penuntut Umum:   \n",
       "3      Tanggal 20 Juli 2023 — Penuntut Umum:   \n",
       "4      Tanggal 13 Juli 2023 — Penuntut Umum:   \n",
       "..                                       ...   \n",
       "57     Tanggal 27 Juni 2023 — Penuntut Umum:   \n",
       "58      Tanggal 6 Juli 2023 — Penuntut Umum:   \n",
       "59     Tanggal 13 Juli 2023 — Penuntut Umum:   \n",
       "60  Tanggal 15 Agustus 2023 — Penuntut Umum:   \n",
       "61     Tanggal 20 Juli 2023 — Penuntut Umum:   \n",
       "\n",
       "                                  Penuntut Umum  \\\n",
       "0                              AGUS SUROTO , SH   \n",
       "1   WIRADHYAKSA MOCHAMAD HARIADI PUTRA,S.H.,M.H   \n",
       "2                             SULTONI, S.H.,M.H   \n",
       "3                              ALDI DEMAS AKIRA   \n",
       "4                              ADI PRASETYO,S.H   \n",
       "..                                          ...   \n",
       "57                             AGUS SUROTO , SH   \n",
       "58  WIRADHYAKSA MOCHAMAD HARIADI PUTRA,S.H.,M.H   \n",
       "59                            SULTONI, S.H.,M.H   \n",
       "60                     Anjas Mega Lestari, S.H.   \n",
       "61                             ALDI DEMAS AKIRA   \n",
       "\n",
       "                                        Terdakwa            Nomor Putusan  \\\n",
       "0                      DEBIK IRAWAN BiN SUPRIADI  181/Pid.Sus/2023/PN Jbg   \n",
       "1              SLAMET HADIWIJAYANTO bin KUSDIYAN  193/Pid.Sus/2023/PN Jbg   \n",
       "2              YUDHA ADITYA alias ADIT bin KARJO  210/Pid.Sus/2023/PN Jbg   \n",
       "3                    EKA YULIASTINI Binti SAMUJI  218/Pid.Sus/2023/PN Jbg   \n",
       "4                     BUDI SANTOSO Bin JAYUS Alm  219/Pid.Sus/2023/PN Jbg   \n",
       "..                                           ...                      ...   \n",
       "57                     DEBIK IRAWAN BiN SUPRIADI  181/Pid.Sus/2023/PN Jbg   \n",
       "58             SLAMET HADIWIJAYANTO bin KUSDIYAN  193/Pid.Sus/2023/PN Jbg   \n",
       "59             YUDHA ADITYA alias ADIT bin KARJO  210/Pid.Sus/2023/PN Jbg   \n",
       "60  DIDIT ADITYA alias WAK NYO bin TOTOK SUYANTO  228/Pid.Sus/2023/PN Jbg   \n",
       "61                   EKA YULIASTINI Binti SAMUJI  218/Pid.Sus/2023/PN Jbg   \n",
       "\n",
       "                                           Kata Kunci Tanggal Register  \\\n",
       "0                                                 ...      23 Mei 2023   \n",
       "1                                                 ...      25 Mei 2023   \n",
       "2                                                 ...      9 Juni 2023   \n",
       "3                                                 ...     14 Juni 2023   \n",
       "4                                                 ...     14 Juni 2023   \n",
       "..                                                ...              ...   \n",
       "57                                                ...      23 Mei 2023   \n",
       "58                                                ...      25 Mei 2023   \n",
       "59                                                ...      9 Juni 2023   \n",
       "60                                                ...     23 Juni 2023   \n",
       "61                                                ...     14 Juni 2023   \n",
       "\n",
       "   Lembaga Peradilan                      Hakim Ketua  \\\n",
       "0         PN JOMBANG      Hakim Ketua Ida Ayu Masyuni   \n",
       "1         PN JOMBANG      Hakim Ketua Ida Ayu Masyuni   \n",
       "2         PN JOMBANG   Hakim Ketua Luki Eko Andrianto   \n",
       "3         PN JOMBANG   Hakim Ketua Luki Eko Andrianto   \n",
       "4         PN JOMBANG   Hakim Ketua Luki Eko Andrianto   \n",
       "..               ...                              ...   \n",
       "57        PN JOMBANG      Hakim Ketua Ida Ayu Masyuni   \n",
       "58        PN JOMBANG      Hakim Ketua Ida Ayu Masyuni   \n",
       "59        PN JOMBANG   Hakim Ketua Luki Eko Andrianto   \n",
       "60        PN JOMBANG  Hakim Ketua Muhammad Riduansyah   \n",
       "61        PN JOMBANG   Hakim Ketua Luki Eko Andrianto   \n",
       "\n",
       "                                        Hakim Anggota  \\\n",
       "0   Hakim Anggota  Muhammad Riduansyah, Br Hakim A...   \n",
       "1   Hakim Anggota  Muhammad Riduansyah, Br Hakim A...   \n",
       "2   Hakim Anggota  Muhammad Riduansyah, Br Hakim A...   \n",
       "3   Hakim Anggota  Muhammad Riduansyah, Br Hakim A...   \n",
       "4   Hakim Anggota  Muhammad Riduansyah, Br Hakim A...   \n",
       "..                                                ...   \n",
       "57  Hakim Anggota  Muhammad Riduansyah, Br Hakim A...   \n",
       "58  Hakim Anggota  Muhammad Riduansyah, Br Hakim A...   \n",
       "59  Hakim Anggota  Muhammad Riduansyah, Br Hakim A...   \n",
       "60  Hakim Anggota  Luki Eko Andrianto, Br Hakim An...   \n",
       "61  Hakim Anggota  Muhammad Riduansyah, Br Hakim A...   \n",
       "\n",
       "                                 Panitera  \\\n",
       "0       Panitera Pengganti: Gatut Prakosa   \n",
       "1        Panitera Pengganti: Karimulyatim   \n",
       "2       Panitera Pengganti: Gatut Prakosa   \n",
       "3            Panitera Pengganti: Mudjiman   \n",
       "4   Panitera Pengganti Arie Syamsul Bahri   \n",
       "..                                    ...   \n",
       "57      Panitera Pengganti: Gatut Prakosa   \n",
       "58       Panitera Pengganti: Karimulyatim   \n",
       "59      Panitera Pengganti: Gatut Prakosa   \n",
       "60         Panitera Pengganti: H. Satiman   \n",
       "61           Panitera Pengganti: Mudjiman   \n",
       "\n",
       "                                         Catatan Amar  \n",
       "0   M E N G A D I L I: Menyatakan Terdakwa DEBIK I...  \n",
       "1    M E N G A D I L I Menyatakan Terdakwa SLAMET ...  \n",
       "2   MENGADILI Menyatakan Terdakwa YUDHA ADITYA ali...  \n",
       "3   MENGADILI  Menyatakan Terdakwa EKA YULIASTINI ...  \n",
       "4   MENGADILI  Menyatakan Terdakwa BUDI SANTOSO Bi...  \n",
       "..                                                ...  \n",
       "57  M E N G A D I L I: Menyatakan Terdakwa DEBIK I...  \n",
       "58   M E N G A D I L I Menyatakan Terdakwa SLAMET ...  \n",
       "59  MENGADILI Menyatakan Terdakwa YUDHA ADITYA ali...  \n",
       "60   Menyatakan Terdakwa DIDIT ADITYA alias WAK NY...  \n",
       "61  MENGADILI  Menyatakan Terdakwa EKA YULIASTINI ...  \n",
       "\n",
       "[62 rows x 11 columns]"
      ]
     },
     "execution_count": 1,
     "metadata": {},
     "output_type": "execute_result"
    }
   ],
   "source": [
    "import pandas as pd\n",
    "\n",
    "data = pd.read_csv('Narkotika_data(PN JOMBANG).csv')\n",
    "data"
   ]
  },
  {
   "cell_type": "code",
   "execution_count": 2,
   "metadata": {},
   "outputs": [
    {
     "name": "stdout",
     "output_type": "stream",
     "text": [
      "<class 'pandas.core.frame.DataFrame'>\n",
      "RangeIndex: 62 entries, 0 to 61\n",
      "Data columns (total 11 columns):\n",
      " #   Column             Non-Null Count  Dtype \n",
      "---  ------             --------------  ----- \n",
      " 0   Tanggal            62 non-null     object\n",
      " 1   Penuntut Umum      62 non-null     object\n",
      " 2   Terdakwa           62 non-null     object\n",
      " 3   Nomor Putusan      62 non-null     object\n",
      " 4   Kata Kunci         62 non-null     object\n",
      " 5   Tanggal Register   62 non-null     object\n",
      " 6   Lembaga Peradilan  62 non-null     object\n",
      " 7   Hakim Ketua        62 non-null     object\n",
      " 8   Hakim Anggota      62 non-null     object\n",
      " 9   Panitera           62 non-null     object\n",
      " 10  Catatan Amar       62 non-null     object\n",
      "dtypes: object(11)\n",
      "memory usage: 5.5+ KB\n"
     ]
    }
   ],
   "source": [
    "data.info()"
   ]
  },
  {
   "cell_type": "code",
   "execution_count": 3,
   "metadata": {},
   "outputs": [
    {
     "data": {
      "text/plain": [
       "Dataset({\n",
       "    features: ['Tanggal', 'Penuntut Umum', 'Terdakwa', 'Nomor Putusan', 'Kata Kunci', 'Tanggal Register', 'Lembaga Peradilan', 'Hakim Ketua', 'Hakim Anggota', 'Panitera', 'Catatan Amar'],\n",
       "    num_rows: 62\n",
       "})"
      ]
     },
     "execution_count": 3,
     "metadata": {},
     "output_type": "execute_result"
    }
   ],
   "source": [
    "from datasets import Dataset\n",
    "\n",
    "comments_dataset = Dataset.from_pandas(data)\n",
    "comments_dataset"
   ]
  },
  {
   "cell_type": "code",
   "execution_count": 4,
   "metadata": {},
   "outputs": [
    {
     "data": {
      "application/vnd.jupyter.widget-view+json": {
       "model_id": "df8f455a4bdd4034b0611d7bdf149810",
       "version_major": 2,
       "version_minor": 0
      },
      "text/plain": [
       "Map:   0%|          | 0/62 [00:00<?, ? examples/s]"
      ]
     },
     "metadata": {},
     "output_type": "display_data"
    }
   ],
   "source": [
    "def concatenate_text(examples):\n",
    "    return {\n",
    "        \"text\": examples[\"Tanggal\"]\n",
    "        + \" \\n \"\n",
    "        + examples[\"Terdakwa\"]\n",
    "        + \" \\n \"\n",
    "        + examples[\"Catatan Amar\"]\n",
    "    }\n",
    "\n",
    "comments_dataset = comments_dataset.map(concatenate_text)"
   ]
  },
  {
   "cell_type": "code",
   "execution_count": 5,
   "metadata": {},
   "outputs": [
    {
     "name": "stderr",
     "output_type": "stream",
     "text": [
      "Some weights of the PyTorch model were not used when initializing the TF 2.0 model TFBertModel: ['embeddings.position_ids']\n",
      "- This IS expected if you are initializing TFBertModel from a PyTorch model trained on another task or with another architecture (e.g. initializing a TFBertForSequenceClassification model from a BertForPreTraining model).\n",
      "- This IS NOT expected if you are initializing TFBertModel from a PyTorch model that you expect to be exactly identical (e.g. initializing a TFBertForSequenceClassification model from a BertForSequenceClassification model).\n",
      "All the weights of TFBertModel were initialized from the PyTorch model.\n",
      "If your task is similar to the task the model of the checkpoint was trained on, you can already use TFBertModel for predictions without further training.\n"
     ]
    }
   ],
   "source": [
    "from transformers import AutoTokenizer, TFAutoModel\n",
    "\n",
    "model_ckpt = \"sentence-transformers/multi-qa-MiniLM-L6-cos-v1\"\n",
    "tokenizer = AutoTokenizer.from_pretrained(model_ckpt)\n",
    "model = TFAutoModel.from_pretrained(model_ckpt, from_pt=True)"
   ]
  },
  {
   "cell_type": "code",
   "execution_count": 6,
   "metadata": {},
   "outputs": [],
   "source": [
    "def cls_pooling(model_output):\n",
    "    return model_output.last_hidden_state[:, 0]"
   ]
  },
  {
   "cell_type": "code",
   "execution_count": 7,
   "metadata": {},
   "outputs": [],
   "source": [
    "def get_embeddings(text_list):\n",
    "    encoded_input = tokenizer(\n",
    "        text_list, padding=True, truncation=True, return_tensors=\"tf\"\n",
    "    )\n",
    "    encoded_input = {k: v for k, v in encoded_input.items()}\n",
    "    model_output = model(**encoded_input)\n",
    "    return cls_pooling(model_output)"
   ]
  },
  {
   "cell_type": "code",
   "execution_count": 8,
   "metadata": {},
   "outputs": [
    {
     "data": {
      "text/plain": [
       "TensorShape([1, 384])"
      ]
     },
     "execution_count": 8,
     "metadata": {},
     "output_type": "execute_result"
    }
   ],
   "source": [
    "embedding = get_embeddings(comments_dataset[\"text\"][0])\n",
    "embedding.shape"
   ]
  },
  {
   "cell_type": "code",
   "execution_count": 9,
   "metadata": {},
   "outputs": [
    {
     "name": "stderr",
     "output_type": "stream",
     "text": [
      "/Users/athena/mlenv/env/lib/python3.10/site-packages/transformers/generation/tf_utils.py:465: UserWarning: `seed_generator` is deprecated and will be removed in a future version.\n",
      "  warnings.warn(\"`seed_generator` is deprecated and will be removed in a future version.\", UserWarning)\n"
     ]
    },
    {
     "data": {
      "application/vnd.jupyter.widget-view+json": {
       "model_id": "76118838a0d4462b8a8d990aac414590",
       "version_major": 2,
       "version_minor": 0
      },
      "text/plain": [
       "Map:   0%|          | 0/62 [00:00<?, ? examples/s]"
      ]
     },
     "metadata": {},
     "output_type": "display_data"
    }
   ],
   "source": [
    "embeddings_dataset = comments_dataset.map(\n",
    "    lambda x: {\"embeddings\": get_embeddings(x[\"text\"]).numpy()[0]}\n",
    ")"
   ]
  },
  {
   "cell_type": "code",
   "execution_count": 10,
   "metadata": {},
   "outputs": [
    {
     "data": {
      "application/vnd.jupyter.widget-view+json": {
       "model_id": "699e635731bc475fa3a0ff2333f9f284",
       "version_major": 2,
       "version_minor": 0
      },
      "text/plain": [
       "  0%|          | 0/1 [00:00<?, ?it/s]"
      ]
     },
     "metadata": {},
     "output_type": "display_data"
    },
    {
     "data": {
      "text/plain": [
       "Dataset({\n",
       "    features: ['Tanggal', 'Penuntut Umum', 'Terdakwa', 'Nomor Putusan', 'Kata Kunci', 'Tanggal Register', 'Lembaga Peradilan', 'Hakim Ketua', 'Hakim Anggota', 'Panitera', 'Catatan Amar', 'text', 'embeddings'],\n",
       "    num_rows: 62\n",
       "})"
      ]
     },
     "execution_count": 10,
     "metadata": {},
     "output_type": "execute_result"
    }
   ],
   "source": [
    "embeddings_dataset.add_faiss_index(column=\"embeddings\")"
   ]
  },
  {
   "cell_type": "code",
   "execution_count": 16,
   "metadata": {},
   "outputs": [
    {
     "data": {
      "text/plain": [
       "(1, 384)"
      ]
     },
     "execution_count": 16,
     "metadata": {},
     "output_type": "execute_result"
    }
   ],
   "source": [
    "question = \"sabu\"\n",
    "question_embedding = get_embeddings([question]).numpy()\n",
    "question_embedding.shape"
   ]
  },
  {
   "cell_type": "code",
   "execution_count": 17,
   "metadata": {},
   "outputs": [],
   "source": [
    "scores, samples = embeddings_dataset.get_nearest_examples(\n",
    "    \"embeddings\", question_embedding, k=5\n",
    ")"
   ]
  },
  {
   "cell_type": "code",
   "execution_count": 18,
   "metadata": {},
   "outputs": [],
   "source": [
    "import pandas as pd\n",
    "\n",
    "samples_df = pd.DataFrame.from_dict(samples)\n",
    "samples_df[\"scores\"] = scores\n",
    "samples_df.sort_values(\"scores\", ascending=False, inplace=True)"
   ]
  },
  {
   "cell_type": "code",
   "execution_count": 19,
   "metadata": {},
   "outputs": [
    {
     "name": "stdout",
     "output_type": "stream",
     "text": [
      "Catatan Amar: M E N G A D I L I: Menyatakan Terdakwa DEBIK IRAWAN BIN SUPRIADI telah terbukti secara sah dan meyakinkan bersalah melakukan tindak pidana ?Tanpa hak dengan melawan hukum memiliki, dan menyimpan, menyediakan Narkotika Golongan I bukan tanaman?, sebagaimana Dakwaan Alternatif Kedua; Menjatuhkan pidana terhadap Terdakwa DEBIK IRAWAN BIN SUPRIADI dengan pidana penjara selama 5 (lima tahun dan 6 (enam) bulan, denda sebesar Rp.800,000.000,00 (delapan ratus juta rupiah), dengan ketentuan jika denda tidak dibayar, maka diganti dengan pidana penjara selama 4 (empat ) bulan; Menetapkan masa penangkapan dan penahanan yang telah dijalani Terdakwa dikurangkan seluruhnya dari pidana yang dijatuhkan ; Menetapkan Terdakwa tetap berada dalam tahanan ; Menetapkan barang bukti berupa : : 8 plastik klip masing masing berisi sabu dengan berat kotor 0,30 gram, 2. 0,32 gram, 3. 0,26 gram, 4. 0,24 gram, 5. 0,22 gram, 6. 0,26 gram, 7. 0,24 gram dan 8. 0,26 gram Jumlah keseluruhan dengan berat kotor 2,1 gram, 1 pipet kaca berisi sisa sabu berat kotor 1,34 gram, 1 timbangan elektrik,1 botol platik terangkai dengan sedotan plastik 1 korek api, 1 sedotan plastik ujungnya runcing/sekrop,  Dirampas untuk dimusnahkan Uang kertas Rp. 500.000,-, 1 Handphone Realmi warna biru No Sim card dan WA 08884996900, Dirampas untuk negara 1 buah HP merk OPPO warna hijau muda No. 081335730552 Dipergunakan dalam perkara PENDIK KURNIAWAN Bin SULAIMAN  6.Membebankan kepada Terdakwa untuk membayar biaya perkara sejumlah Rp 5.000,00 (lima ribu rupiah) ;\n",
      "SCORE: 54.00495529174805\n",
      "Tanggal: Tanggal 27 Juni 2023 — Penuntut Umum:\n",
      "Terdakwa: DEBIK IRAWAN BiN SUPRIADI\n",
      "==================================================\n",
      "\n",
      "Catatan Amar: M E N G A D I L I: Menyatakan Terdakwa DEBIK IRAWAN BIN SUPRIADI telah terbukti secara sah dan meyakinkan bersalah melakukan tindak pidana ?Tanpa hak dengan melawan hukum memiliki, dan menyimpan, menyediakan Narkotika Golongan I bukan tanaman?, sebagaimana Dakwaan Alternatif Kedua; Menjatuhkan pidana terhadap Terdakwa DEBIK IRAWAN BIN SUPRIADI dengan pidana penjara selama 5 (lima tahun dan 6 (enam) bulan, denda sebesar Rp.800,000.000,00 (delapan ratus juta rupiah), dengan ketentuan jika denda tidak dibayar, maka diganti dengan pidana penjara selama 4 (empat ) bulan; Menetapkan masa penangkapan dan penahanan yang telah dijalani Terdakwa dikurangkan seluruhnya dari pidana yang dijatuhkan ; Menetapkan Terdakwa tetap berada dalam tahanan ; Menetapkan barang bukti berupa : : 8 plastik klip masing masing berisi sabu dengan berat kotor 0,30 gram, 2. 0,32 gram, 3. 0,26 gram, 4. 0,24 gram, 5. 0,22 gram, 6. 0,26 gram, 7. 0,24 gram dan 8. 0,26 gram Jumlah keseluruhan dengan berat kotor 2,1 gram, 1 pipet kaca berisi sisa sabu berat kotor 1,34 gram, 1 timbangan elektrik,1 botol platik terangkai dengan sedotan plastik 1 korek api, 1 sedotan plastik ujungnya runcing/sekrop,  Dirampas untuk dimusnahkan Uang kertas Rp. 500.000,-, 1 Handphone Realmi warna biru No Sim card dan WA 08884996900, Dirampas untuk negara 1 buah HP merk OPPO warna hijau muda No. 081335730552 Dipergunakan dalam perkara PENDIK KURNIAWAN Bin SULAIMAN  6.Membebankan kepada Terdakwa untuk membayar biaya perkara sejumlah Rp 5.000,00 (lima ribu rupiah) ;\n",
      "SCORE: 54.00495529174805\n",
      "Tanggal: Tanggal 27 Juni 2023 — Penuntut Umum:\n",
      "Terdakwa: DEBIK IRAWAN BiN SUPRIADI\n",
      "==================================================\n",
      "\n",
      "Catatan Amar: M E N G A D I L I: Menyatakan Terdakwa HERY SUSETYO Bin (Alm) SISWARDONO telah terbukti secara sah dan meyakinkan bersalah melakukan tindak pidana ?Permufakatan Jahat Tanpa hak menjual, membeli, menjadi perantara dalam jual beli, menyerahkan Narkotika Golongan I bukan tanaman?, sebagaimana Dakwaan Alternatif Pertama Penuntut Umum; Menjatuhkan pidana terhadap Terdakwa HERY SUSETYO Bin (Alm) SISWARDONO;dengan pidana penjara selama 5 (lima) tahun dan 10 (Sepuluh) bulan dan denda sebesar Rp.1.000,000.000,00 (satu milyar rupiah), dengan ketentuan jika denda tidak dibayar, maka diganti dengan pidana penjara selama 4 (empat) bulan; Menetapkan masa penangkapan dan penahanan yang telah dijalani Terdakwa dikurangkan seluruhnya dari pidana yang dijatuhkan ; Menetapkan Terdakwa tetap berada dalam tahanan ; Menetapkan barang bukti berupa : 1 (satu) Buah Plastik Klip Sabu Berat Kotor 1 Gram . 1 (satu) Buah Bekas Bungkus Rokok Dji Samsoe ; 1 (satu) Buah Sedotan Plastik Ujung Runcing (sekrop) Dirampas untuk dimusnahkan  6.Membebankan kepada Terdakwa untuk membayar biaya perkara sejumlah Rp 5.000,00 (lima ribu rupiah) ;\n",
      "SCORE: 53.76988983154297\n",
      "Tanggal: Tanggal 22 Agustus 2023 — Penuntut Umum:\n",
      "Terdakwa: HERI  SUSETYO Bin Alm SISWARDONO\n",
      "==================================================\n",
      "\n",
      "Catatan Amar: M E N G A D I L I: Menyatakan Terdakwa HERY SUSETYO Bin (Alm) SISWARDONO telah terbukti secara sah dan meyakinkan bersalah melakukan tindak pidana ?Permufakatan Jahat Tanpa hak menjual, membeli, menjadi perantara dalam jual beli, menyerahkan Narkotika Golongan I bukan tanaman?, sebagaimana Dakwaan Alternatif Pertama Penuntut Umum; Menjatuhkan pidana terhadap Terdakwa HERY SUSETYO Bin (Alm) SISWARDONO;dengan pidana penjara selama 5 (lima) tahun dan 10 (Sepuluh) bulan dan denda sebesar Rp.1.000,000.000,00 (satu milyar rupiah), dengan ketentuan jika denda tidak dibayar, maka diganti dengan pidana penjara selama 4 (empat) bulan; Menetapkan masa penangkapan dan penahanan yang telah dijalani Terdakwa dikurangkan seluruhnya dari pidana yang dijatuhkan ; Menetapkan Terdakwa tetap berada dalam tahanan ; Menetapkan barang bukti berupa : 1 (satu) Buah Plastik Klip Sabu Berat Kotor 1 Gram . 1 (satu) Buah Bekas Bungkus Rokok Dji Samsoe ; 1 (satu) Buah Sedotan Plastik Ujung Runcing (sekrop) Dirampas untuk dimusnahkan  6.Membebankan kepada Terdakwa untuk membayar biaya perkara sejumlah Rp 5.000,00 (lima ribu rupiah) ;\n",
      "SCORE: 53.76988983154297\n",
      "Tanggal: Tanggal 22 Agustus 2023 — Penuntut Umum:\n",
      "Terdakwa: HERI  SUSETYO Bin Alm SISWARDONO\n",
      "==================================================\n",
      "\n",
      "Catatan Amar: M E N G A D I L I: Menyatakan Terdakwa HERY SUSETYO Bin (Alm) SISWARDONO telah terbukti secara sah dan meyakinkan bersalah melakukan tindak pidana ?Permufakatan Jahat Tanpa hak menjual, membeli, menjadi perantara dalam jual beli, menyerahkan Narkotika Golongan I bukan tanaman?, sebagaimana Dakwaan Alternatif Pertama Penuntut Umum; Menjatuhkan pidana terhadap Terdakwa HERY SUSETYO Bin (Alm) SISWARDONO;dengan pidana penjara selama 5 (lima) tahun dan 10 (Sepuluh) bulan dan denda sebesar Rp.1.000,000.000,00 (satu milyar rupiah), dengan ketentuan jika denda tidak dibayar, maka diganti dengan pidana penjara selama 4 (empat) bulan; Menetapkan masa penangkapan dan penahanan yang telah dijalani Terdakwa dikurangkan seluruhnya dari pidana yang dijatuhkan ; Menetapkan Terdakwa tetap berada dalam tahanan ; Menetapkan barang bukti berupa : 1 (satu) Buah Plastik Klip Sabu Berat Kotor 1 Gram . 1 (satu) Buah Bekas Bungkus Rokok Dji Samsoe ; 1 (satu) Buah Sedotan Plastik Ujung Runcing (sekrop) Dirampas untuk dimusnahkan  6.Membebankan kepada Terdakwa untuk membayar biaya perkara sejumlah Rp 5.000,00 (lima ribu rupiah) ;\n",
      "SCORE: 53.76988983154297\n",
      "Tanggal: Tanggal 22 Agustus 2023 — Penuntut Umum:\n",
      "Terdakwa: HERI  SUSETYO Bin Alm SISWARDONO\n",
      "==================================================\n",
      "\n"
     ]
    }
   ],
   "source": [
    "for _, row in samples_df.iterrows():\n",
    "    print(f\"Catatan Amar: {row['Catatan Amar']}\")\n",
    "    print(f\"SCORE: {row.scores}\")\n",
    "    print(f\"Tanggal: {row.Tanggal}\")\n",
    "    print(f\"Terdakwa: {row.Terdakwa}\")\n",
    "    print(\"=\" * 50)\n",
    "    print()"
   ]
  }
 ],
 "metadata": {
  "kernelspec": {
   "display_name": "Python 3",
   "language": "python",
   "name": "python3"
  },
  "language_info": {
   "codemirror_mode": {
    "name": "ipython",
    "version": 3
   },
   "file_extension": ".py",
   "mimetype": "text/x-python",
   "name": "python",
   "nbconvert_exporter": "python",
   "pygments_lexer": "ipython3",
   "version": "3.10.9"
  }
 },
 "nbformat": 4,
 "nbformat_minor": 2
}
